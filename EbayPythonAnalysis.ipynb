{
 "cells": [
  {
   "cell_type": "code",
   "execution_count": 8,
   "metadata": {
    "collapsed": true
   },
   "outputs": [],
   "source": [
    "from bs4 import BeautifulSoup\n",
    "import requests\n",
    "import re\n",
    "import pandas as pd\n",
    "import seaborn as sns\n",
    "import statsmodels.formula.api as smf\n",
    "%matplotlib inline"
   ]
  },
  {
   "cell_type": "markdown",
   "metadata": {},
   "source": [
    "## Gathering Data\n",
    "The code below will scrap ebay completed listings for the macbook pro. The model that we are interested in is an i5 processor, 8 gb of ram, and a 256gb ssd hard drive. These paramters are easy to change within the url itself. \n",
    "\n",
    "The scraper will take completed listings for years 2013-2017. This data will then be used to give us an idea of price decay by year. "
   ]
  },
  {
   "cell_type": "code",
   "execution_count": 4,
   "metadata": {
    "collapsed": false
   },
   "outputs": [],
   "source": [
    "priceRegex = '(0-9*)</span>'\n",
    "\n",
    "years = ['2013', '2014', '2015', '2016', '2017']\n",
    "output = {}\n",
    "for y in years:\n",
    "    \n",
    "    url = \"https://www.ebay.com/sch/i.html?Screen%2520Size=13%252E3in%252E&_sop=12&_sadis=15&LH_ItemCondition=3000&Release%2520Year=\"+y+\"&_stpos=80239-6007&_odkw=macbook+pro+retina&Memory=8GB&Hard%2520Drive%2520Capacity=256GB&_dmd=1&LH_Complete=1&_dcat=111422&LH_Sold=1&_osacat=0&_ipg=200&_from=R40&_trksid=p2045573.m570.l1313.TR0.TRC0.H0.Xmacbook+pro+retina.TRS0&_nkw=macbook+pro+retina&_sacat=0\"\n",
    "    r = requests.get(url)\n",
    "    c = r.content\n",
    "\n",
    "    soup = BeautifulSoup(c,\"lxml\")\n",
    "\n",
    "    prices = []\n",
    "    for text in soup.find_all(\"li\", class_=\"lvprice prc\"):\n",
    "        prices.append(text.text)\n",
    "\n",
    "    prices = [re.findall('(\\d,?\\d*\\.\\d{2}){1}',p) for p in prices if re.match('[^\\$\\d*\\.\\d{2}]',p)]\n",
    "\n",
    "    prices = [p[0].replace(',','') for p in prices]\n",
    "    final = [float(n) for n in prices]\n",
    "    output[y] = final\n",
    "\n",
    "PricesDF = pd.DataFrame({k:pd.Series(v[:200]) for k,v in output.items()})"
   ]
  },
  {
   "cell_type": "code",
   "execution_count": 9,
   "metadata": {
    "collapsed": false
   },
   "outputs": [
    {
     "data": {
      "text/plain": [
       "<matplotlib.axes._subplots.AxesSubplot at 0x2296e3d9a58>"
      ]
     },
     "execution_count": 9,
     "metadata": {},
     "output_type": "execute_result"
    },
    {
     "data": {
      "image/png": "[encoded data removed]",
      "text/plain": [
       "<matplotlib.figure.Figure at 0x22970588470>"
      ]
     },
     "metadata": {},
     "output_type": "display_data"
    }
   ],
   "source": [
    "PricesDF.boxplot()"
   ]
  },
  {
   "cell_type": "code",
   "execution_count": 5,
   "metadata": {
    "collapsed": false
   },
   "outputs": [
    {
     "data": {
      "text/html": [
       "<div>\n",
       "<table border=\"1\" class=\"dataframe\">\n",
       "  <thead>\n",
       "    <tr style=\"text-align: right;\">\n",
       "      <th></th>\n",
       "      <th>variable</th>\n",
       "      <th>value</th>\n",
       "    </tr>\n",
       "  </thead>\n",
       "  <tbody>\n",
       "    <tr>\n",
       "      <th>0</th>\n",
       "      <td>2013</td>\n",
       "      <td>625.00</td>\n",
       "    </tr>\n",
       "    <tr>\n",
       "      <th>1</th>\n",
       "      <td>2013</td>\n",
       "      <td>783.52</td>\n",
       "    </tr>\n",
       "    <tr>\n",
       "      <th>2</th>\n",
       "      <td>2013</td>\n",
       "      <td>650.07</td>\n",
       "    </tr>\n",
       "    <tr>\n",
       "      <th>3</th>\n",
       "      <td>2013</td>\n",
       "      <td>550.00</td>\n",
       "    </tr>\n",
       "    <tr>\n",
       "      <th>4</th>\n",
       "      <td>2013</td>\n",
       "      <td>610.00</td>\n",
       "    </tr>\n",
       "  </tbody>\n",
       "</table>\n",
       "</div>"
      ],
      "text/plain": [
       "  variable   value\n",
       "0     2013  625.00\n",
       "1     2013  783.52\n",
       "2     2013  650.07\n",
       "3     2013  550.00\n",
       "4     2013  610.00"
      ]
     },
     "execution_count": 5,
     "metadata": {},
     "output_type": "execute_result"
    }
   ],
   "source": [
    "mPricesDF = pd.melt(PricesDF, value_vars=['2013', '2014', '2015', '2016', '2017'])\n",
    "mPricesDF.head()"
   ]
  },
  {
   "cell_type": "code",
   "execution_count": 10,
   "metadata": {
    "collapsed": false
   },
   "outputs": [
    {
     "data": {
      "image/png": "[encoded data removed]",
      "text/plain": [
       "<matplotlib.figure.Figure at 0x2296f559e10>"
      ]
     },
     "metadata": {},
     "output_type": "display_data"
    }
   ],
   "source": [
    "#violin plot of price per year \n",
    "ax = sns.violinplot(x=\"variable\", y=\"value\",\n",
    "                    data=mPricesDF,\n",
    "                    scale=\"width\", palette=\"Set3\")\n"
   ]
  },
  {
   "cell_type": "code",
   "execution_count": 12,
   "metadata": {
    "collapsed": false
   },
   "outputs": [
    {
     "data": {
      "text/html": [
       "<div>\n",
       "<table border=\"1\" class=\"dataframe\">\n",
       "  <thead>\n",
       "    <tr style=\"text-align: right;\">\n",
       "      <th></th>\n",
       "      <th>variable</th>\n",
       "      <th>avgPrice</th>\n",
       "      <th>year</th>\n",
       "    </tr>\n",
       "  </thead>\n",
       "  <tbody>\n",
       "    <tr>\n",
       "      <th>0</th>\n",
       "      <td>2013</td>\n",
       "      <td>636.962350</td>\n",
       "      <td>2013</td>\n",
       "    </tr>\n",
       "    <tr>\n",
       "      <th>1</th>\n",
       "      <td>2014</td>\n",
       "      <td>740.359000</td>\n",
       "      <td>2014</td>\n",
       "    </tr>\n",
       "    <tr>\n",
       "      <th>2</th>\n",
       "      <td>2015</td>\n",
       "      <td>897.702300</td>\n",
       "      <td>2015</td>\n",
       "    </tr>\n",
       "    <tr>\n",
       "      <th>3</th>\n",
       "      <td>2016</td>\n",
       "      <td>1170.525714</td>\n",
       "      <td>2016</td>\n",
       "    </tr>\n",
       "    <tr>\n",
       "      <th>4</th>\n",
       "      <td>2017</td>\n",
       "      <td>1411.621154</td>\n",
       "      <td>2017</td>\n",
       "    </tr>\n",
       "  </tbody>\n",
       "</table>\n",
       "</div>"
      ],
      "text/plain": [
       "   variable     avgPrice  year\n",
       "0      2013   636.962350  2013\n",
       "1      2014   740.359000  2014\n",
       "2      2015   897.702300  2015\n",
       "3      2016  1170.525714  2016\n",
       "4      2017  1411.621154  2017"
      ]
     },
     "execution_count": 12,
     "metadata": {},
     "output_type": "execute_result"
    }
   ],
   "source": [
    "#avg price per year \n",
    "pricePredict = (mPricesDF.groupby([\"variable\"])\n",
    "                   .value\n",
    "                   .mean()\n",
    "                   .reset_index(name=\"avgPrice\"))\n",
    "\n",
    "pricePredict['variable'] = pricePredict['variable'].apply(int)\n",
    "pricePredict['year'] = pricePredict['variable'].apply(str)\n",
    "\n",
    "pricePredict.head()\n"
   ]
  },
  {
   "cell_type": "code",
   "execution_count": 13,
   "metadata": {
    "collapsed": false
   },
   "outputs": [
    {
     "data": {
      "text/plain": [
       "<matplotlib.axes._subplots.AxesSubplot at 0x2296fd54940>"
      ]
     },
     "execution_count": 13,
     "metadata": {},
     "output_type": "execute_result"
    },
    {
     "data": {
      "image/png": "[encoded data removed]",
      "text/plain": [
       "<matplotlib.figure.Figure at 0x2297059c9e8>"
      ]
     },
     "metadata": {},
     "output_type": "display_data"
    }
   ],
   "source": [
    "#plot lm fit \n",
    "sns.regplot(x=\"variable\", y=\"avgPrice\", data=pricePredict)"
   ]
  },
  {
   "cell_type": "code",
   "execution_count": 15,
   "metadata": {
    "collapsed": false
   },
   "outputs": [
    {
     "name": "stdout",
     "output_type": "stream",
     "text": [
      "                            OLS Regression Results                            \n",
      "==============================================================================\n",
      "Dep. Variable:               avgPrice   R-squared:                       1.000\n",
      "Model:                            OLS   Adj. R-squared:                    nan\n",
      "Method:                 Least Squares   F-statistic:                     0.000\n",
      "Date:                Wed, 22 Nov 2017   Prob (F-statistic):                nan\n",
      "Time:                        20:27:44   Log-Likelihood:                 133.36\n",
      "No. Observations:                   5   AIC:                            -256.7\n",
      "Df Residuals:                       0   BIC:                            -258.7\n",
      "Df Model:                           4                                         \n",
      "Covariance Type:            nonrobust                                         \n",
      "================================================================================\n",
      "                   coef    std err          t      P>|t|      [95.0% Conf. Int.]\n",
      "--------------------------------------------------------------------------------\n",
      "Intercept      636.9623        inf          0        nan           nan       nan\n",
      "year[T.2014]   103.3967        inf          0        nan           nan       nan\n",
      "year[T.2015]   260.7399        inf          0        nan           nan       nan\n",
      "year[T.2016]   533.5634        inf          0        nan           nan       nan\n",
      "year[T.2017]   774.6588        inf          0        nan           nan       nan\n",
      "==============================================================================\n",
      "Omnibus:                          nan   Durbin-Watson:                   1.084\n",
      "Prob(Omnibus):                    nan   Jarque-Bera (JB):                1.124\n",
      "Skew:                          -1.152   Prob(JB):                        0.570\n",
      "Kurtosis:                       2.714   Cond. No.                         5.83\n",
      "==============================================================================\n",
      "\n",
      "Warnings:\n",
      "[1] Standard Errors assume that the covariance matrix of the errors is correctly specified.\n"
     ]
    },
    {
     "name": "stderr",
     "output_type": "stream",
     "text": [
      "C:\\Users\\Dave\\Anaconda3\\lib\\site-packages\\statsmodels\\stats\\stattools.py:72: UserWarning: omni_normtest is not valid with less than 8 observations; 5 samples were given.\n",
      "  \"samples were given.\" % int(n))\n",
      "C:\\Users\\Dave\\Anaconda3\\lib\\site-packages\\statsmodels\\regression\\linear_model.py:1187: RuntimeWarning: divide by zero encountered in true_divide\n",
      "  return 1 - np.divide(self.nobs - self.k_constant, self.df_resid) * (1 - self.rsquared)\n",
      "C:\\Users\\Dave\\Anaconda3\\lib\\site-packages\\statsmodels\\regression\\linear_model.py:1187: RuntimeWarning: invalid value encountered in double_scalars\n",
      "  return 1 - np.divide(self.nobs - self.k_constant, self.df_resid) * (1 - self.rsquared)\n",
      "C:\\Users\\Dave\\Anaconda3\\lib\\site-packages\\statsmodels\\regression\\linear_model.py:1195: RuntimeWarning: divide by zero encountered in double_scalars\n",
      "  return self.ssr/self.df_resid\n",
      "C:\\Users\\Dave\\Anaconda3\\lib\\site-packages\\statsmodels\\regression\\linear_model.py:1148: RuntimeWarning: divide by zero encountered in double_scalars\n",
      "  return np.dot(wresid, wresid) / self.df_resid\n"
     ]
    }
   ],
   "source": [
    "#lm \n",
    "lmod = smf.ols(formula='avgPrice ~ year', data=pricePredict)\n",
    "res = lmod.fit()\n",
    "print(res.summary())"
   ]
  },
  {
   "cell_type": "code",
   "execution_count": null,
   "metadata": {
    "collapsed": true
   },
   "outputs": [],
   "source": []
  }
 ],
 "metadata": {
  "kernelspec": {
   "display_name": "Python 3",
   "language": "python",
   "name": "python3"
  },
  "language_info": {
   "codemirror_mode": {
    "name": "ipython",
    "version": 3
   },
   "file_extension": ".py",
   "mimetype": "text/x-python",
   "name": "python",
   "nbconvert_exporter": "python",
   "pygments_lexer": "ipython3",
   "version": "3.6.0"
  }
 },
 "nbformat": 4,
 "nbformat_minor": 2
}
